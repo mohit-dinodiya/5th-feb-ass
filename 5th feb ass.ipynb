{
 "cells": [
  {
   "cell_type": "markdown",
   "id": "675185df-6654-46cd-8b19-ee299dddecd2",
   "metadata": {},
   "source": [
    "# Q1. Explain Class and Object with respect to Object-Oriented Programming. Give a suitable example.\n",
    "\n",
    "In Object-Oriented Programming (OOP), a class is a blueprint or a template that defines the properties and behaviors of an object. An object, on the other hand, is an instance of a class that has its own unique values for the properties defined in the class and can perform the behaviors defined in the class.\n",
    "\n",
    "For example, let's say we want to create a class called Car that represents a car object. The Car class may have properties like make, model, year, color, and mileage, as well as behaviors like start(), accelerate(), and stop(). We can define the class like this:"
   ]
  },
  {
   "cell_type": "code",
   "execution_count": 1,
   "id": "b26a664a-0a58-4d4d-8004-2759b5586907",
   "metadata": {},
   "outputs": [],
   "source": [
    "class Car:\n",
    "    def __init__(self, make, model, year, color, mileage):\n",
    "        self.make = make\n",
    "        self.model = model\n",
    "        self.year = year\n",
    "        self.color = color\n",
    "        self.mileage = mileage\n",
    "    \n",
    "    def start(self):\n",
    "        print(f\"The {self.color} {self.make} {self.model} starts.\")\n",
    "    \n",
    "    def accelerate(self):\n",
    "        print(f\"The {self.color} {self.make} {self.model} accelerates.\")\n",
    "    \n",
    "    def stop(self):\n",
    "        print(f\"The {self.color} {self.make} {self.model} stops.\")\n"
   ]
  },
  {
   "cell_type": "markdown",
   "id": "7ba33536-f316-4378-9575-960f0b611cf0",
   "metadata": {},
   "source": [
    "We can then create objects of the Car class, each with its own unique values for the properties:"
   ]
  },
  {
   "cell_type": "code",
   "execution_count": 2,
   "id": "1afc10bc-f21d-463a-9951-891c21b480c4",
   "metadata": {},
   "outputs": [],
   "source": [
    "car1 = Car(\"Toyota\", \"Camry\", 2022, \"red\", 0)\n",
    "car2 = Car(\"Honda\", \"Civic\", 2021, \"blue\", 10000)\n"
   ]
  },
  {
   "cell_type": "markdown",
   "id": "93c56a25-7e47-4e0a-8827-3fd18bd2d551",
   "metadata": {},
   "source": [
    "Now, car1 and car2 are objects of the Car class, and we can call their behaviors like this:"
   ]
  },
  {
   "cell_type": "code",
   "execution_count": 3,
   "id": "fdcea9ec-eb51-43a8-8e5c-335432e22c6f",
   "metadata": {},
   "outputs": [
    {
     "name": "stdout",
     "output_type": "stream",
     "text": [
      "The red Toyota Camry starts.\n",
      "The blue Honda Civic accelerates.\n"
     ]
    }
   ],
   "source": [
    "car1.start()  # Output: \"The red Toyota Camry starts.\"\n",
    "car2.accelerate()  # Output: \"The blue Honda Civic accelerates.\"\n"
   ]
  },
  {
   "cell_type": "markdown",
   "id": "bc7560de-bd84-4677-b0c1-873e5d3ac212",
   "metadata": {},
   "source": [
    "Each object has its own unique values for the properties and can perform the behaviors defined in the Car class. This is the essence of OOP - defining classes that represent real-world entities and creating objects that have their own unique values and behaviors."
   ]
  },
  {
   "cell_type": "markdown",
   "id": "ff138d3b-7f28-435b-bc49-86ed2cc24d19",
   "metadata": {},
   "source": [
    "# Q2. Name the four pillars of OOPs.\n",
    "\n",
    "The four pillars of Object-Oriented Programming (OOP) are:\n",
    "\n",
    "Encapsulation: Encapsulation is the process of binding data and methods that operate on that data into a single unit or object. The object's internal workings are hidden from the outside world, and the object can only be accessed through a well-defined interface. This improves code maintainability, reusability, and security.\n",
    "\n",
    "Inheritance: Inheritance is the process of creating new classes by inheriting properties and behaviors from existing classes. The existing class is called the parent or superclass, and the new class is called the child or subclass. Inheritance allows for code reuse, promotes consistency, and makes it easier to modify existing code.\n",
    "\n",
    "Polymorphism: Polymorphism refers to the ability of objects to take on multiple forms or behaviors. Polymorphism can be achieved through method overloading, which allows a method to have multiple definitions with different parameter lists, or method overriding, which allows a subclass to provide its own implementation of a method defined in its superclass.\n",
    "\n",
    "Abstraction: Abstraction is the process of focusing on the essential features of an object or a problem and ignoring the details that are not relevant to the current context. Abstraction allows for simplification of complex systems, reduces code duplication, and promotes modularity. Abstraction can be achieved through abstract classes and interfaces, which provide a blueprint for other classes to follow"
   ]
  },
  {
   "cell_type": "markdown",
   "id": "8311c2ed-5ac8-40d4-8aeb-d2d2c73747a6",
   "metadata": {},
   "source": [
    "# Q3. Explain why the __init__() function is used. Give a suitable example.\n",
    "\n",
    "The __init__() function is a special method in Python classes that is used to initialize the object's attributes or properties when an object is created. It is called the constructor method because it constructs the object and sets its initial state.\n",
    "\n",
    "When we create an object of a class, Python automatically calls the __init__() method to initialize the object's attributes with the values provided as arguments. This makes it easy to create multiple objects of the same class with different attribute values.\n",
    "\n",
    "Here is an example of a Rectangle class that uses the __init__() method to initialize the width and height attributes of the rectangle object:"
   ]
  },
  {
   "cell_type": "code",
   "execution_count": 4,
   "id": "29e3f09e-9635-4b24-8d33-363672b4979d",
   "metadata": {},
   "outputs": [],
   "source": [
    "class Rectangle:\n",
    "    def __init__(self, width, height):\n",
    "        self.width = width\n",
    "        self.height = height\n",
    "    \n",
    "    def area(self):\n",
    "        return self.width * self.height\n",
    "    \n",
    "    def perimeter(self):\n",
    "        return 2 * (self.width + self.height)\n"
   ]
  },
  {
   "cell_type": "markdown",
   "id": "029b6180-441e-475c-bed5-b328d884ac71",
   "metadata": {},
   "source": [
    "In this example, the __init__() method takes two arguments, width and height, and initializes the self.width and self.height attributes with these values. We can then create an object of the Rectangle class and set its attributes like this:"
   ]
  },
  {
   "cell_type": "code",
   "execution_count": 5,
   "id": "98f3e5d0-0af1-4fc1-83c5-a6568028f7d8",
   "metadata": {},
   "outputs": [],
   "source": [
    "rect = Rectangle(5, 10)\n"
   ]
  },
  {
   "cell_type": "markdown",
   "id": "b89bc2c2-b076-4234-b48a-8e2d60b45d05",
   "metadata": {},
   "source": [
    "This creates a rect object with a width of 5 and a height of 10. We can then call the area() and perimeter() methods to calculate the area and perimeter of the rectangle:"
   ]
  },
  {
   "cell_type": "code",
   "execution_count": 7,
   "id": "345d625f-9078-49f9-b9ef-45b14c1a4591",
   "metadata": {},
   "outputs": [
    {
     "name": "stdout",
     "output_type": "stream",
     "text": [
      "50\n",
      "30\n"
     ]
    }
   ],
   "source": [
    "print(rect.area())  \n",
    "print(rect.perimeter())  \n"
   ]
  },
  {
   "cell_type": "markdown",
   "id": "7dc2f828-2414-49e4-bd43-14c397d466df",
   "metadata": {},
   "source": [
    "By using the __init__() method, we can easily create multiple Rectangle objects with different widths and heights, and each object will have its own set of attributes. This makes our code more reusable and easier to maintain."
   ]
  },
  {
   "cell_type": "markdown",
   "id": "e58e928a-98d7-4442-9543-695e4e5c4dbb",
   "metadata": {},
   "source": [
    "# Q4. Why self is used in OOPs?\n",
    "\n",
    "In Object-Oriented Programming (OOP), self is a reference to the current object or instance of a class. It is a way for a method to refer to the object that called it, and to access its attributes and methods.\n",
    "\n",
    "In Python, all instance methods of a class take the self parameter as their first argument. This allows the method to refer to the instance variables and methods of the object that called it. When a method is called on an object, Python automatically passes the object as the first argument to the method, and we use self to access the object's attributes and methods.\n",
    "\n",
    "For example, let's consider the following Person class:"
   ]
  },
  {
   "cell_type": "code",
   "execution_count": 8,
   "id": "116fb3f1-31c5-433a-94a6-420ab5ccd7d9",
   "metadata": {},
   "outputs": [],
   "source": [
    "class Person:\n",
    "    def __init__(self, name, age):\n",
    "        self.name = name\n",
    "        self.age = age\n",
    "    \n",
    "    def greet(self):\n",
    "        print(f\"Hello, my name is {self.name} and I am {self.age} years old.\")\n"
   ]
  },
  {
   "cell_type": "markdown",
   "id": "97b58c23-aaea-4ac6-b535-ab9f6654dcf1",
   "metadata": {},
   "source": [
    "In this class, the __init__() method takes two arguments, name and age, and initializes the self.name and self.age instance variables with these values. The greet() method uses self to access the name and age attributes of the object that called it, and prints a greeting message.\n",
    "\n",
    "When we create an object of the Person class and call its greet() method, we pass no arguments to the method, but self refers to the object that called the method:"
   ]
  },
  {
   "cell_type": "code",
   "execution_count": 9,
   "id": "0cec8bbe-0621-4c1e-a236-222daebae5f0",
   "metadata": {},
   "outputs": [
    {
     "name": "stdout",
     "output_type": "stream",
     "text": [
      "Hello, my name is John and I am 30 years old.\n"
     ]
    }
   ],
   "source": [
    "person1 = Person(\"John\", 30)\n",
    "person1.greet()  \n"
   ]
  },
  {
   "cell_type": "markdown",
   "id": "6a5d7f6f-5a6c-4b21-867a-f1fc82fbdca8",
   "metadata": {},
   "source": [
    "Without self, the greet() method would not know which object's attributes to access, and the code would not work as intended. Therefore, self is an important concept in OOP and is used to access and modify the attributes and methods of the object that called a method."
   ]
  },
  {
   "cell_type": "markdown",
   "id": "cf4dbc52-2bf4-4865-90bd-21d3c1ec8a1a",
   "metadata": {},
   "source": [
    "# Q5. What is inheritance? Give an example for each type of inheritance.\n",
    "\n",
    "\n",
    "In Python, inheritance is a mechanism that allows a subclass to inherit properties and methods from a superclass. The subclass can then extend or modify these properties and methods to create its own unique behavior.\n",
    "\n",
    "Here are some examples of each type of inheritance in Python:\n",
    "\n",
    "Single Inheritance:"
   ]
  },
  {
   "cell_type": "code",
   "execution_count": 10,
   "id": "692a4e40-981a-4bf9-8285-0bb2b0f7f8c5",
   "metadata": {},
   "outputs": [
    {
     "name": "stdout",
     "output_type": "stream",
     "text": [
      "Moving...\n",
      "Meowing...\n"
     ]
    }
   ],
   "source": [
    "class Animal:\n",
    "    def move(self):\n",
    "        print(\"Moving...\")\n",
    "        \n",
    "class Cat(Animal):\n",
    "    def meow(self):\n",
    "        print(\"Meowing...\")\n",
    "        \n",
    "c = Cat()\n",
    "c.move() \n",
    "c.meow()  \n"
   ]
  },
  {
   "cell_type": "markdown",
   "id": "444cb42d-2741-477c-851d-845fd0f49164",
   "metadata": {},
   "source": [
    "In this example, the Cat class inherits from the Animal class using single inheritance. The Cat class inherits the move() method from the Animal class and adds its own meow() method.\n",
    "\n",
    "Multiple Inheritance:"
   ]
  },
  {
   "cell_type": "code",
   "execution_count": 11,
   "id": "61672493-bc4f-4038-a704-3b04fa8932ef",
   "metadata": {},
   "outputs": [
    {
     "name": "stdout",
     "output_type": "stream",
     "text": [
      "Flying...\n",
      "Laying eggs...\n",
      "Roaring...\n"
     ]
    }
   ],
   "source": [
    "class Bird:\n",
    "    def fly(self):\n",
    "        print(\"Flying...\")\n",
    "        \n",
    "class Reptile:\n",
    "    def lay_eggs(self):\n",
    "        print(\"Laying eggs...\")\n",
    "        \n",
    "class Dinosaur(Bird, Reptile):\n",
    "    def roar(self):\n",
    "        print(\"Roaring...\")\n",
    "        \n",
    "d = Dinosaur()\n",
    "d.fly()       \n",
    "d.lay_eggs()  \n",
    "d.roar()      \n"
   ]
  },
  {
   "cell_type": "markdown",
   "id": "9dd28a03-046b-4b24-b9af-c7435309cdc9",
   "metadata": {},
   "source": [
    "In this example, the Dinosaur class inherits from both the Bird and Reptile classes using multiple inheritance. The Dinosaur class inherits the fly() method from the Bird class and the lay_eggs() method from the Reptile class, and adds its own roar() method.\n",
    "\n",
    "Hierarchical Inheritance:"
   ]
  },
  {
   "cell_type": "code",
   "execution_count": 12,
   "id": "8f765572-4ac6-4020-886b-1af0af8788bc",
   "metadata": {},
   "outputs": [
    {
     "name": "stdout",
     "output_type": "stream",
     "text": [
      "Moving...\n",
      "Driving...\n",
      "Moving...\n",
      "Hauling...\n"
     ]
    }
   ],
   "source": [
    "class Vehicle:\n",
    "    def move(self):\n",
    "        print(\"Moving...\")\n",
    "        \n",
    "class Car(Vehicle):\n",
    "    def drive(self):\n",
    "        print(\"Driving...\")\n",
    "        \n",
    "class Truck(Vehicle):\n",
    "    def haul(self):\n",
    "        print(\"Hauling...\")\n",
    "        \n",
    "c = Car()\n",
    "c.move()   \n",
    "c.drive()  \n",
    "\n",
    "t = Truck()\n",
    "t.move()   \n",
    "t.haul()   \n"
   ]
  },
  {
   "cell_type": "markdown",
   "id": "dddd2ff2-d0fd-43f6-ac8b-c0d4c1345c04",
   "metadata": {},
   "source": [
    "In this example, both the Car and Truck classes inherit from the Vehicle class using hierarchical inheritance. Both the Car and Truck classes inherit the move() method from the Vehicle class and add their own unique methods.\n",
    "\n",
    "Multilevel Inheritance:"
   ]
  },
  {
   "cell_type": "code",
   "execution_count": 15,
   "id": "c50d9127-1be5-4df0-9320-4877524115cb",
   "metadata": {},
   "outputs": [
    {
     "name": "stdout",
     "output_type": "stream",
     "text": [
      "Speaking...\n",
      "Learning...\n",
      "Researching...\n"
     ]
    }
   ],
   "source": [
    "class Person:\n",
    "    def speak(self):\n",
    "        print(\"Speaking...\")\n",
    "        \n",
    "class Student(Person):\n",
    "    def learn(self):\n",
    "        print(\"Learning...\")\n",
    "        \n",
    "class GraduateStudent(Student):\n",
    "    def research(self):\n",
    "        print(\"Researching...\")\n",
    "        \n",
    "g = GraduateStudent()\n",
    "g.speak()    \n",
    "g.learn()    \n",
    "g.research() \n"
   ]
  },
  {
   "cell_type": "markdown",
   "id": "d93ca26b-0234-4886-a097-9ceaa9433ec2",
   "metadata": {},
   "source": [
    "In this example, the GraduateStudent class inherits from both the Student and Person classes using multilevel inheritance. The GraduateStudent class inherits the speak() method from the Person class and the learn() method from the Student class, and adds its own research() method.\n",
    "\n",
    "Hybrid Inheritance:"
   ]
  },
  {
   "cell_type": "code",
   "execution_count": 16,
   "id": "1f52aa43-22a9-4a57-b07a-a66b68f589aa",
   "metadata": {},
   "outputs": [
    {
     "name": "stdout",
     "output_type": "stream",
     "text": [
      "Calculating area of square...\n",
      "Calculating perimeter...\n"
     ]
    }
   ],
   "source": [
    "class Shape:\n",
    "    def area(self):\n",
    "        print(\"Calculating area...\")\n",
    "        \n",
    "class Rectangle(Shape):\n",
    "    def perimeter(self):\n",
    "        print(\"Calculating perimeter...\")\n",
    "        \n",
    "class Square(Rectangle):\n",
    "    def area(self):\n",
    "        print(\"Calculating area of square...\")\n",
    "        \n",
    "s = Square()\n",
    "s.area()      \n",
    "s.perimeter()\n"
   ]
  },
  {
   "cell_type": "code",
   "execution_count": null,
   "id": "3ae4a295-3e59-47e1-bc47-1412f8de4117",
   "metadata": {},
   "outputs": [],
   "source": []
  }
 ],
 "metadata": {
  "kernelspec": {
   "display_name": "Python 3 (ipykernel)",
   "language": "python",
   "name": "python3"
  },
  "language_info": {
   "codemirror_mode": {
    "name": "ipython",
    "version": 3
   },
   "file_extension": ".py",
   "mimetype": "text/x-python",
   "name": "python",
   "nbconvert_exporter": "python",
   "pygments_lexer": "ipython3",
   "version": "3.10.8"
  }
 },
 "nbformat": 4,
 "nbformat_minor": 5
}
